{
 "cells": [
  {
   "cell_type": "markdown",
   "id": "d83f8a5a",
   "metadata": {},
   "source": [
    "# This program aims to check the DataFrame structure, transfer the data type, drop the useless columns, and save each county csv file."
   ]
  },
  {
   "cell_type": "code",
   "execution_count": null,
   "id": "ca5a10e5",
   "metadata": {},
   "outputs": [],
   "source": [
    "import pandas as pd \n",
    "import os"
   ]
  },
  {
   "cell_type": "code",
   "execution_count": null,
   "id": "41d53285",
   "metadata": {},
   "outputs": [],
   "source": [
    "# Transfer to DataFrame\n",
    "path = \"../data/raw/air_quality.csv\"\n",
    "df = pd.read_csv(path, low_memory=False)\n",
    "\n",
    "# check the structure of df\n",
    "df.info()"
   ]
  },
  {
   "cell_type": "code",
   "execution_count": null,
   "id": "3011486b",
   "metadata": {},
   "outputs": [],
   "source": [
    "# Transfer the air element columns' type to float\n",
    "numeric_col = [\n",
    "    \"so2\",\n",
    "    \"co\",\n",
    "    \"o3\",\n",
    "    \"o3_8hr\",\n",
    "    \"pm10\",\n",
    "    \"pm2.5\",\n",
    "    \"no2\",\n",
    "    \"nox\",\n",
    "    \"no\",\n",
    "    \"windspeed\",\n",
    "    \"winddirec\",\n",
    "    \"co_8hr\",\n",
    "    \"pm2.5_avg\",\n",
    "    \"pm10_avg\",\n",
    "    \"so2_avg\",\n",
    "]\n",
    "\n",
    "df[numeric_col] = df[numeric_col].apply(pd.to_numeric, errors=\"coerce\")\n",
    "df.info()"
   ]
  },
  {
   "cell_type": "code",
   "execution_count": null,
   "id": "50ef5cf7",
   "metadata": {},
   "outputs": [],
   "source": [
    "# check the Nan amount in every column\n",
    "df.isna().sum()"
   ]
  },
  {
   "cell_type": "code",
   "execution_count": null,
   "id": "23316ef7",
   "metadata": {},
   "outputs": [],
   "source": [
    "# Column unit has 5,882,208 Nan so we can drop it off\n",
    "df = df.drop(columns=[\"unit\"])"
   ]
  },
  {
   "cell_type": "code",
   "execution_count": null,
   "id": "805fe6a1",
   "metadata": {},
   "outputs": [],
   "source": [
    "# We don't need longitude and latitude this time, so let's drop them off.\n",
    "df = df.drop(columns=[\"longitude\", \"latitude\"])"
   ]
  },
  {
   "cell_type": "code",
   "execution_count": null,
   "id": "1e9122db",
   "metadata": {},
   "outputs": [],
   "source": [
    "# replace the space between county name with _\n",
    "df[\"county\"] = df[\"county\"].str.replace(\" \", \"_\")"
   ]
  },
  {
   "cell_type": "code",
   "execution_count": null,
   "id": "e39414fd",
   "metadata": {},
   "outputs": [],
   "source": [
    "# Get the county name\n",
    "county_list = list(df[\"county\"].str.strip().unique())\n",
    "\n",
    "# Store the csv file according to the county\n",
    "for county in county_list:\n",
    "    temp = df[df[\"county\"] == county]\n",
    "    path = f\"../data/processed/{county}.csv\"\n",
    "    os.makedirs(os.path.dirname(path), exist_ok=True)\n",
    "    temp.to_csv(path, index=False)\n",
    "    print(f\"{county}的CSV檔已儲存完畢\")"
   ]
  }
 ],
 "metadata": {
  "kernelspec": {
   "display_name": "air-pollution-vF1A1vAr-py3.13",
   "language": "python",
   "name": "python3"
  },
  "language_info": {
   "codemirror_mode": {
    "name": "ipython",
    "version": 3
   },
   "file_extension": ".py",
   "mimetype": "text/x-python",
   "name": "python",
   "nbconvert_exporter": "python",
   "pygments_lexer": "ipython3",
   "version": "3.13.8"
  }
 },
 "nbformat": 4,
 "nbformat_minor": 5
}

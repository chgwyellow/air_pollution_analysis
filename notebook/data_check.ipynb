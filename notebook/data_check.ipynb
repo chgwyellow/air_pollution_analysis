{
 "cells": [
  {
   "cell_type": "code",
   "execution_count": 1,
   "id": "ca5a10e5",
   "metadata": {},
   "outputs": [],
   "source": [
    "import pandas as pd \n",
    "import os"
   ]
  },
  {
   "cell_type": "code",
   "execution_count": 3,
   "id": "41d53285",
   "metadata": {},
   "outputs": [
    {
     "name": "stdout",
     "output_type": "stream",
     "text": [
      "<class 'pandas.core.frame.DataFrame'>\n",
      "RangeIndex: 5882208 entries, 0 to 5882207\n",
      "Data columns (total 25 columns):\n",
      " #   Column     Dtype  \n",
      "---  ------     -----  \n",
      " 0   date       object \n",
      " 1   sitename   object \n",
      " 2   county     object \n",
      " 3   aqi        float64\n",
      " 4   pollutant  object \n",
      " 5   status     object \n",
      " 6   so2        object \n",
      " 7   co         object \n",
      " 8   o3         object \n",
      " 9   o3_8hr     object \n",
      " 10  pm10       object \n",
      " 11  pm2.5      object \n",
      " 12  no2        object \n",
      " 13  nox        object \n",
      " 14  no         object \n",
      " 15  windspeed  object \n",
      " 16  winddirec  object \n",
      " 17  unit       float64\n",
      " 18  co_8hr     object \n",
      " 19  pm2.5_avg  object \n",
      " 20  pm10_avg   object \n",
      " 21  so2_avg    object \n",
      " 22  longitude  float64\n",
      " 23  latitude   float64\n",
      " 24  siteid     float64\n",
      "dtypes: float64(5), object(20)\n",
      "memory usage: 1.1+ GB\n"
     ]
    }
   ],
   "source": [
    "# Transfer to DataFrame\n",
    "path = \"data/raw/air_quality.csv\"\n",
    "try:\n",
    "    df = pd.read_csv(path, low_memory=False)\n",
    "except FileNotFoundError:\n",
    "    print(\"Didn't find the file.\")\n",
    "# check the structure of df\n",
    "df.info()"
   ]
  },
  {
   "cell_type": "code",
   "execution_count": null,
   "id": "3011486b",
   "metadata": {},
   "outputs": [],
   "source": [
    "# Transfer the air element columns' type to float\n",
    "numeric_col = [\n",
    "    \"so2\",\n",
    "    \"co\",\n",
    "    \"o3\",\n",
    "    \"o3_8hr\",\n",
    "    \"pm10\",\n",
    "    \"pm2.5\",\n",
    "    \"no2\",\n",
    "    \"nox\",\n",
    "    \"no\",\n",
    "    \"windspeed\",\n",
    "    \"winddirec\",\n",
    "    \"co_8hr\",\n",
    "    \"pm2.5_avg\",\n",
    "    \"pm10_avg\",\n",
    "    \"so2_avg\",\n",
    "]\n",
    "\n",
    "df[numeric_col] = df[numeric_col].apply(pd.to_numeric, errors=\"coerce\")\n",
    "\n",
    "df.info()"
   ]
  },
  {
   "cell_type": "code",
   "execution_count": null,
   "id": "50ef5cf7",
   "metadata": {},
   "outputs": [],
   "source": [
    "# check the Nan amount in every column\n",
    "df.isna().sum()"
   ]
  },
  {
   "cell_type": "code",
   "execution_count": 6,
   "id": "23316ef7",
   "metadata": {},
   "outputs": [],
   "source": [
    "# Column unit has 5,882,208 Nan so we can drop it off\n",
    "df = df.drop(columns=[\"unit\"])"
   ]
  },
  {
   "cell_type": "code",
   "execution_count": 7,
   "id": "805fe6a1",
   "metadata": {},
   "outputs": [],
   "source": [
    "# We don't need longitude and latitude this time, so let's drop them off.\n",
    "df = df.drop(columns=[\"longitude\", \"latitude\"])"
   ]
  },
  {
   "cell_type": "code",
   "execution_count": 8,
   "id": "1e9122db",
   "metadata": {},
   "outputs": [],
   "source": [
    "# replace the space between county name with _\n",
    "df[\"county\"] = df[\"county\"].str.replace(\" \", \"_\")"
   ]
  },
  {
   "cell_type": "code",
   "execution_count": null,
   "id": "e39414fd",
   "metadata": {},
   "outputs": [],
   "source": [
    "# Get the county name\n",
    "county_list = list(df[\"county\"].str.strip().unique())\n",
    "\n",
    "# Store the csv file according to the county\n",
    "for county in county_list:\n",
    "    temp = df[df[\"county\"] == county]\n",
    "    path = f\"../data/processed/{county}.csv\"\n",
    "    os.makedirs(os.path.dirname(path), exist_ok=True)\n",
    "    temp.to_csv(path, index=False)\n",
    "    print(f\"{county}.csv has been saved.\")\n",
    "print(\"Awesome, you've got the all csv files!\")"
   ]
  }
 ],
 "metadata": {
  "kernelspec": {
   "display_name": "air-pollution-vF1A1vAr-py3.13",
   "language": "python",
   "name": "python3"
  },
  "language_info": {
   "codemirror_mode": {
    "name": "ipython",
    "version": 3
   },
   "file_extension": ".py",
   "mimetype": "text/x-python",
   "name": "python",
   "nbconvert_exporter": "python",
   "pygments_lexer": "ipython3",
   "version": "3.13.8"
  }
 },
 "nbformat": 4,
 "nbformat_minor": 5
}

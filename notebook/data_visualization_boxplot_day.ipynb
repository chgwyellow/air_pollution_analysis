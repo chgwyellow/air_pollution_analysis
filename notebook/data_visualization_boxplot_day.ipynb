{
 "cells": [
  {
   "cell_type": "markdown",
   "id": "d92a5f78",
   "metadata": {},
   "source": [
    "# This program does the visualization and save the figures.\n",
    "\n",
    "## Use the separately csv files of the county to manipulate the data."
   ]
  },
  {
   "cell_type": "code",
   "execution_count": null,
   "id": "2dbc1f89",
   "metadata": {},
   "outputs": [],
   "source": [
    "import pandas as pd\n",
    "import numpy as np\n",
    "import os\n",
    "import matplotlib.pyplot as plt\n",
    "import seaborn as sns"
   ]
  },
  {
   "cell_type": "code",
   "execution_count": null,
   "id": "34753af1",
   "metadata": {},
   "outputs": [],
   "source": [
    "county = \"Kaohsiung_City\"\n",
    "path = f\"../data/processed/{county}.csv\"\n",
    "\n",
    "try:\n",
    "    df = pd.read_csv(path)\n",
    "    df[\"date\"] = pd.to_datetime(df[\"date\"])\n",
    "except FileNotFoundError:\n",
    "    print(\"Can't find the county name.\")"
   ]
  },
  {
   "cell_type": "code",
   "execution_count": null,
   "id": "9831b616",
   "metadata": {},
   "outputs": [],
   "source": [
    "df.info()"
   ]
  },
  {
   "cell_type": "code",
   "execution_count": null,
   "id": "5f737d65",
   "metadata": {},
   "outputs": [],
   "source": [
    "# Check all of sitename\n",
    "df[\"sitename\"].unique()"
   ]
  },
  {
   "cell_type": "code",
   "execution_count": null,
   "id": "3a07ee69",
   "metadata": {},
   "outputs": [],
   "source": [
    "# We don't need the county name, drop it off.\n",
    "df = df.drop(columns=\"county\")"
   ]
  },
  {
   "cell_type": "code",
   "execution_count": null,
   "id": "9db8538f",
   "metadata": {},
   "outputs": [],
   "source": [
    "# Let's check the NaN first\n",
    "df.isna().sum()"
   ]
  },
  {
   "cell_type": "code",
   "execution_count": null,
   "id": "4469a459",
   "metadata": {},
   "outputs": [],
   "source": [
    "# We can make a copy avoiding changing the original data.\n",
    "df_copy = df.copy()"
   ]
  },
  {
   "cell_type": "code",
   "execution_count": null,
   "id": "8d328304",
   "metadata": {},
   "outputs": [],
   "source": [
    "# Set the time period and sitename\n",
    "start_time = \"2024-08-01\"\n",
    "end_time = \"2024-08-31\"\n",
    "sitename = \"Zuoying\"\n",
    "\n",
    "# Catch the data in the time period and matching sitename\n",
    "df_plot = df_copy[(df_copy[\"date\"] > start_time) & (df_copy[\"date\"] < end_time)]\n",
    "df_plot = df_plot[\n",
    "    df_plot[\"sitename\"] == sitename\n",
    "    ]\n",
    "\n",
    "# create a day column to save the day\n",
    "df_plot[\"day\"] = df_plot[\"date\"].dt.date\n",
    "df_plot[\"month\"] = df_plot[\"date\"].dt.month\n",
    "df_plot[\"year\"] = df_plot[\"date\"].dt.year\n",
    "df_plot"
   ]
  },
  {
   "cell_type": "markdown",
   "id": "3d50b7d7",
   "metadata": {},
   "source": [
    "# Draw the date data."
   ]
  },
  {
   "cell_type": "code",
   "execution_count": null,
   "id": "3f6bfab9",
   "metadata": {},
   "outputs": [],
   "source": [
    "# Ascending the data via day\n",
    "df_plot = df_plot.sort_values(by=\"day\", ascending=True)\n",
    "\n",
    "# Build the color corresponding to the aqi\n",
    "y_label = \"aqi\"\n",
    "df_mean = df_plot.groupby(\"day\", as_index=False)[y_label].mean()\n",
    "\n",
    "# Normalize will standardize the column value between 0 to 1\n",
    "norm = plt.Normalize(df_mean[y_label].min(), df_mean[y_label].max())\n",
    "\n",
    "# as_cmap makes the sns palette to colormap\n",
    "colors = sns.color_palette(\"coolwarm\", as_cmap=True)(norm(df_mean[y_label]))\n",
    "\n",
    "# Draw the Boxplot\n",
    "plt.figure(figsize=(14, 10))\n",
    "ax = sns.boxplot(\n",
    "    data=df_plot,\n",
    "    x=\"day\",\n",
    "    y=y_label,\n",
    "    # dict create a \"day\" -> color form\n",
    "    palette=dict(zip(df_mean[\"day\"], colors)),\n",
    "    hue=\"day\",\n",
    "    legend=False,\n",
    ")\n",
    "plt.xticks(rotation=90)\n",
    "plt.xlabel(\"DAY\", fontsize=14)\n",
    "plt.ylabel(\"AQI(Air Quality Index)\", fontsize=14)\n",
    "plt.ylim((0, 100))\n",
    "plt.yticks(np.arange(0, 100, 5))\n",
    "plt.title(f\"AQI Distribution by Day in Taoyuan District ({start_time} - {end_time})\", fontsize=18)\n",
    "plt.grid(linestyle=\"--\", linewidth=1, alpha=0.3)\n",
    "\n",
    "# Save figure\n",
    "path = f\"../figure/{county}_{sitename}_{y_label}_{start_time}_day.png\"\n",
    "os.makedirs(os.path.dirname(path), exist_ok=True)\n",
    "plt.savefig(path, dpi=600, bbox_inches=\"tight\")\n",
    "print(\"Figure has been saved.\")\n",
    "\n",
    "# show method must stand at the last position\n",
    "plt.show()"
   ]
  },
  {
   "cell_type": "markdown",
   "id": "7d310357",
   "metadata": {},
   "source": [
    "# Draw the month data."
   ]
  },
  {
   "cell_type": "code",
   "execution_count": null,
   "id": "5c6d48bf",
   "metadata": {},
   "outputs": [],
   "source": [
    "# Ascending the data via day\n",
    "df_plot = df_plot.sort_values(by=\"month\", ascending=True)\n",
    "\n",
    "# Build the color corresponding to the aqi\n",
    "y_label = \"aqi\"\n",
    "df_mean = df_plot.groupby(\"month\", as_index=False)[y_label].mean()\n",
    "\n",
    "# Normalize will standardize the column value between 0 to 1\n",
    "norm = plt.Normalize(df_mean[y_label].min(), df_mean[y_label].max())\n",
    "\n",
    "# as_cmap makes the sns palette to colormap\n",
    "colors = sns.color_palette(\"coolwarm\", as_cmap=True)(norm(df_mean[y_label]))\n",
    "\n",
    "# Draw the Boxplot\n",
    "plt.figure(figsize=(14, 10))\n",
    "ax = sns.boxplot(\n",
    "    data=df_plot,\n",
    "    x=\"month\",\n",
    "    y=y_label,\n",
    "    # dict create a \"day\" -> color form\n",
    "    palette=dict(zip(df_mean[\"month\"], colors)),\n",
    "    hue=\"month\",\n",
    "    legend=False,\n",
    ")\n",
    "plt.xticks()\n",
    "plt.xlabel(\"Month\", fontsize=14)\n",
    "plt.ylabel(\"AQI(Air Quality Index)\", fontsize=14)\n",
    "plt.ylim((0, 180))\n",
    "plt.yticks(np.arange(0, 180, 5))\n",
    "plt.title(f\"AQI Distribution by Month in Zuoying District ({start_time} - {end_time})\", fontsize=18)\n",
    "plt.grid(linestyle=\"--\", linewidth=1, alpha=0.3)\n",
    "\n",
    "# Save figure\n",
    "path = f\"../figure/{county}_{sitename}_{y_label}_{start_time}_month.png\"\n",
    "os.makedirs(os.path.dirname(path), exist_ok=True)\n",
    "plt.savefig(path, dpi=600, bbox_inches=\"tight\")\n",
    "print(\"Figure has been saved.\")\n",
    "\n",
    "# show method must stand at the last position\n",
    "plt.show()"
   ]
  },
  {
   "cell_type": "markdown",
   "id": "d19852f1",
   "metadata": {},
   "source": [
    "# Draw the year data."
   ]
  },
  {
   "cell_type": "code",
   "execution_count": null,
   "id": "e8814143",
   "metadata": {},
   "outputs": [],
   "source": [
    "# Ascending the data via day\n",
    "df_plot = df_plot.sort_values(by=\"year\", ascending=True)\n",
    "\n",
    "# Build the color corresponding to the aqi\n",
    "y_label = \"aqi\"\n",
    "df_mean = df_plot.groupby(\"year\", as_index=False)[y_label].mean()\n",
    "\n",
    "# Normalize will standardize the column value between 0 to 1\n",
    "norm = plt.Normalize(df_mean[y_label].min(), df_mean[y_label].max())\n",
    "\n",
    "# as_cmap makes the sns palette to colormap\n",
    "colors = sns.color_palette(\"coolwarm\", as_cmap=True)(norm(df_mean[y_label]))\n",
    "\n",
    "# Draw the Boxplot\n",
    "plt.figure(figsize=(14, 10))\n",
    "ax = sns.boxplot(\n",
    "    data=df_plot,\n",
    "    x=\"year\",\n",
    "    y=y_label,\n",
    "    # dict create a \"day\" -> color form\n",
    "    palette=dict(zip(df_mean[\"year\"], colors)),\n",
    "    hue=\"year\",\n",
    "    legend=False,\n",
    ")\n",
    "plt.xticks()\n",
    "plt.xlabel(\"Year\", fontsize=14)\n",
    "plt.ylabel(\"AQI(Air Quality Index)\", fontsize=14)\n",
    "plt.ylim((0, 230))\n",
    "plt.yticks(np.arange(0, 230, 5))\n",
    "plt.title(f\"AQI Distribution by Year in Zuoying District ({start_time} - {end_time})\", fontsize=18)\n",
    "plt.grid(linestyle=\"--\", linewidth=1, alpha=0.3)\n",
    "\n",
    "# Save figure\n",
    "path = f\"../figure/{county}_{sitename}_{y_label}_{start_time}_year.png\"\n",
    "os.makedirs(os.path.dirname(path), exist_ok=True)\n",
    "plt.savefig(path, dpi=600, bbox_inches=\"tight\")\n",
    "print(\"Figure has been saved.\")\n",
    "\n",
    "# show method must stand at the last position\n",
    "plt.show()"
   ]
  }
 ],
 "metadata": {
  "kernelspec": {
   "display_name": "air-pollution-vF1A1vAr-py3.13",
   "language": "python",
   "name": "python3"
  },
  "language_info": {
   "codemirror_mode": {
    "name": "ipython",
    "version": 3
   },
   "file_extension": ".py",
   "mimetype": "text/x-python",
   "name": "python",
   "nbconvert_exporter": "python",
   "pygments_lexer": "ipython3",
   "version": "3.13.8"
  }
 },
 "nbformat": 4,
 "nbformat_minor": 5
}
